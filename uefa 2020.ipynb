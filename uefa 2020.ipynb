{
 "cells": [
  {
   "cell_type": "code",
   "execution_count": 51,
   "id": "99b3e339",
   "metadata": {},
   "outputs": [],
   "source": [
    "import random as rnd\n",
    "class Team:\n",
    "    LUCK = 0.0    \n",
    "    def __init__(self, name, strength = None):\n",
    "        self.name = name\n",
    "        self.strength = strength if strength else rnd.uniform(0,1)\n",
    "    def __str__(self):\n",
    "         return self.name\n",
    "    def __repr__(self):\n",
    "         return self.name\n",
    "    def __lt__(self, t):\n",
    "         return self.strength < t.strength + rnd.gauss(0, Team.LUCK)"
   ]
  },
  {
   "cell_type": "code",
   "execution_count": 52,
   "id": "aaf80345",
   "metadata": {},
   "outputs": [],
   "source": [
    "teams_data = [[(\"Italy\", 7), (\"Wales\", 17), (\"Switzerland\", 13), (\"Turkey\", 29)], [(\"Belgium\", 1), (\"Denmark\", 10), (\"Finland\", 54), (\"Russia\", 38)], [(\"Netherlands\", 16), (\"Austria\", 23), (\"Ukraine\", 24), (\"North Macedonia\", 62)], [(\"England\", 4), (\"Croatia\", 14), (\"Czech Republic\", 40), (\"Scotland\", 44)], [(\"Sweden\", 18), (\"Spain\", 6), (\"Slovakia\", 36), (\"Poland\", 21)], [(\"France\", 2), (\"Germany\", 12), (\"Portugal\", 5), (\"Hungary\", 37)]]"
   ]
  },
  {
   "cell_type": "code",
   "execution_count": 53,
   "id": "5212cc06",
   "metadata": {},
   "outputs": [],
   "source": [
    "ratings = sum([[rating for _,rating in group_data] \n",
    "               for group_data in teams_data], [])\n",
    "smallest = min(ratings)\n",
    "largest = max(ratings)\n",
    "teams = [[Team(name, 1 - (rating - smallest) / (largest - smallest))\n",
    "         for name,rating in group_data] for group_data in teams_data]"
   ]
  },
  {
   "cell_type": "code",
   "execution_count": 54,
   "id": "4d2f2708",
   "metadata": {},
   "outputs": [],
   "source": [
    "after_groups = [sorted(group, reverse=True) for group in teams]\n",
    "third_placers = sorted([g[2] for g in after_groups], reverse=True)[:4]\n",
    "winners = sum([g[:2] for g in after_groups], [])\n",
    "teams16 = winners + third_placers"
   ]
  },
  {
   "cell_type": "code",
   "execution_count": 55,
   "id": "5c529278",
   "metadata": {},
   "outputs": [
    {
     "data": {
      "text/plain": [
       "[[Italy, Switzerland, Wales, Turkey],\n",
       " [Belgium, Denmark, Russia, Finland],\n",
       " [North Macedonia, Netherlands, Austria, Ukraine],\n",
       " [England, Croatia, Czech Republic, Scotland],\n",
       " [Spain, Sweden, Poland, Slovakia],\n",
       " [France, Portugal, Germany, Hungary]]"
      ]
     },
     "execution_count": 55,
     "metadata": {},
     "output_type": "execute_result"
    }
   ],
   "source": [
    "after_groups"
   ]
  },
  {
   "cell_type": "code",
   "execution_count": 56,
   "id": "5952829f",
   "metadata": {},
   "outputs": [
    {
     "data": {
      "text/plain": [
       "[Germany, Wales, Poland, Austria]"
      ]
     },
     "execution_count": 56,
     "metadata": {},
     "output_type": "execute_result"
    }
   ],
   "source": [
    "third_placers"
   ]
  },
  {
   "cell_type": "code",
   "execution_count": 57,
   "id": "9a7ee11b",
   "metadata": {},
   "outputs": [],
   "source": [
    "rnd.shuffle(teams16)\n",
    "pairs16 = zip(teams16[::2], teams16[1::2])"
   ]
  },
  {
   "cell_type": "code",
   "execution_count": 58,
   "id": "f0e44d9f",
   "metadata": {},
   "outputs": [],
   "source": [
    "teams8 = [sorted(g, reverse=True)[0] for g in pairs16]\n",
    "pairs8 = zip(teams8[::2], teams8[1::2])\n",
    "teams4 = [sorted(g, reverse=True)[0] for g in pairs8]\n",
    "pairs4 = zip(teams4[::2], teams4[1::2])"
   ]
  },
  {
   "cell_type": "code",
   "execution_count": 59,
   "id": "c1a31458",
   "metadata": {},
   "outputs": [],
   "source": [
    "teams2 = [sorted(g, reverse=True) for g in pairs4]\n",
    "first, second = sorted([teams2[0][0], teams2[1][0]], reverse=True)\n",
    "third, _      = sorted([teams2[0][1], teams2[1][1]], reverse=True)"
   ]
  },
  {
   "cell_type": "code",
   "execution_count": 61,
   "id": "48fc3b77",
   "metadata": {},
   "outputs": [
    {
     "data": {
      "text/plain": [
       "[Italy,\n",
       " Switzerland,\n",
       " Belgium,\n",
       " Denmark,\n",
       " North Macedonia,\n",
       " Netherlands,\n",
       " England,\n",
       " Croatia,\n",
       " Spain,\n",
       " Sweden,\n",
       " France,\n",
       " Portugal]"
      ]
     },
     "execution_count": 61,
     "metadata": {},
     "output_type": "execute_result"
    }
   ],
   "source": [
    "winners"
   ]
  },
  {
   "cell_type": "code",
   "execution_count": 63,
   "id": "ca66b94d",
   "metadata": {},
   "outputs": [
    {
     "data": {
      "text/plain": [
       "[Wales,\n",
       " Netherlands,\n",
       " England,\n",
       " Denmark,\n",
       " Croatia,\n",
       " Belgium,\n",
       " Austria,\n",
       " Spain,\n",
       " Portugal,\n",
       " France,\n",
       " Poland,\n",
       " Italy,\n",
       " Sweden,\n",
       " Switzerland,\n",
       " Germany,\n",
       " North Macedonia]"
      ]
     },
     "execution_count": 63,
     "metadata": {},
     "output_type": "execute_result"
    }
   ],
   "source": [
    "teams16"
   ]
  },
  {
   "cell_type": "code",
   "execution_count": 65,
   "id": "436c15aa",
   "metadata": {},
   "outputs": [
    {
     "data": {
      "text/plain": [
       "<zip at 0x7f7373acc740>"
      ]
     },
     "execution_count": 65,
     "metadata": {},
     "output_type": "execute_result"
    }
   ],
   "source": [
    "pairs16"
   ]
  },
  {
   "cell_type": "code",
   "execution_count": 68,
   "id": "dd82a54f",
   "metadata": {},
   "outputs": [
    {
     "data": {
      "text/plain": [
       "[[Belgium, England], [France, North Macedonia]]"
      ]
     },
     "execution_count": 68,
     "metadata": {},
     "output_type": "execute_result"
    }
   ],
   "source": [
    "teams2"
   ]
  },
  {
   "cell_type": "code",
   "execution_count": 69,
   "id": "d22d72de",
   "metadata": {},
   "outputs": [
    {
     "data": {
      "text/plain": [
       "(Belgium, France)"
      ]
     },
     "execution_count": 69,
     "metadata": {},
     "output_type": "execute_result"
    }
   ],
   "source": [
    "first,second"
   ]
  },
  {
   "cell_type": "code",
   "execution_count": 70,
   "id": "45db13af",
   "metadata": {},
   "outputs": [
    {
     "data": {
      "text/plain": [
       "(England, North Macedonia)"
      ]
     },
     "execution_count": 70,
     "metadata": {},
     "output_type": "execute_result"
    }
   ],
   "source": [
    "third,_"
   ]
  },
  {
   "cell_type": "code",
   "execution_count": null,
   "id": "9df5bac7",
   "metadata": {},
   "outputs": [],
   "source": []
  }
 ],
 "metadata": {
  "kernelspec": {
   "display_name": "Python 3 (ipykernel)",
   "language": "python",
   "name": "python3"
  },
  "language_info": {
   "codemirror_mode": {
    "name": "ipython",
    "version": 3
   },
   "file_extension": ".py",
   "mimetype": "text/x-python",
   "name": "python",
   "nbconvert_exporter": "python",
   "pygments_lexer": "ipython3",
   "version": "3.9.7"
  }
 },
 "nbformat": 4,
 "nbformat_minor": 5
}
